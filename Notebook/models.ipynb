{
 "cells": [
  {
   "cell_type": "code",
   "execution_count": 27,
   "id": "56b16da4",
   "metadata": {},
   "outputs": [],
   "source": [
    "import pandas as pd\n",
    "from sklearn.model_selection import train_test_split\n",
    "from sklearn.preprocessing import StandardScaler\n",
    "from sklearn.metrics import accuracy_score, f1_score, classification_report\n",
    "from sklearn.linear_model import LogisticRegression\n",
    "from sklearn.naive_bayes import GaussianNB\n",
    "from sklearn.tree import DecisionTreeClassifier\n",
    "from sklearn.svm import SVC\n",
    "from sklearn.neighbors import KNeighborsClassifier\n",
    "from sklearn.ensemble import RandomForestClassifier"
   ]
  },
  {
   "cell_type": "code",
   "execution_count": 28,
   "id": "5f91558c",
   "metadata": {},
   "outputs": [
    {
     "name": "stderr",
     "output_type": "stream",
     "text": [
      "<>:1: SyntaxWarning: invalid escape sequence '\\d'\n",
      "<>:1: SyntaxWarning: invalid escape sequence '\\d'\n",
      "C:\\Users\\hp\\AppData\\Local\\Temp\\ipykernel_2552\\3872387476.py:1: SyntaxWarning: invalid escape sequence '\\d'\n",
      "  df = pd.read_csv('..\\data\\exoplanents_cleaned_new.csv')\n"
     ]
    }
   ],
   "source": [
    "df = pd.read_csv('..\\data\\exoplanents_cleaned_new.csv')"
   ]
  },
  {
   "cell_type": "code",
   "execution_count": 29,
   "id": "ab16e6ca",
   "metadata": {},
   "outputs": [
    {
     "data": {
      "text/html": [
       "<div>\n",
       "<style scoped>\n",
       "    .dataframe tbody tr th:only-of-type {\n",
       "        vertical-align: middle;\n",
       "    }\n",
       "\n",
       "    .dataframe tbody tr th {\n",
       "        vertical-align: top;\n",
       "    }\n",
       "\n",
       "    .dataframe thead th {\n",
       "        text-align: right;\n",
       "    }\n",
       "</style>\n",
       "<table border=\"1\" class=\"dataframe\">\n",
       "  <thead>\n",
       "    <tr style=\"text-align: right;\">\n",
       "      <th></th>\n",
       "      <th>koi_disposition</th>\n",
       "      <th>koi_score</th>\n",
       "      <th>koi_fpflag_nt</th>\n",
       "      <th>koi_fpflag_ss</th>\n",
       "      <th>koi_fpflag_co</th>\n",
       "      <th>koi_fpflag_ec</th>\n",
       "      <th>koi_period</th>\n",
       "      <th>koi_time0bk</th>\n",
       "      <th>koi_impact</th>\n",
       "      <th>koi_duration</th>\n",
       "      <th>koi_depth</th>\n",
       "      <th>koi_prad</th>\n",
       "      <th>koi_teq</th>\n",
       "      <th>koi_insol</th>\n",
       "      <th>koi_model_snr</th>\n",
       "      <th>koi_steff</th>\n",
       "      <th>koi_slogg</th>\n",
       "      <th>koi_srad</th>\n",
       "    </tr>\n",
       "  </thead>\n",
       "  <tbody>\n",
       "    <tr>\n",
       "      <th>3001</th>\n",
       "      <td>CANDIDATE</td>\n",
       "      <td>0.78</td>\n",
       "      <td>0</td>\n",
       "      <td>0</td>\n",
       "      <td>0</td>\n",
       "      <td>0</td>\n",
       "      <td>21.086786</td>\n",
       "      <td>135.563600</td>\n",
       "      <td>0.702</td>\n",
       "      <td>0.97800</td>\n",
       "      <td>499.6</td>\n",
       "      <td>2.08</td>\n",
       "      <td>651</td>\n",
       "      <td>42.44</td>\n",
       "      <td>11.0</td>\n",
       "      <td>6084</td>\n",
       "      <td>4.542</td>\n",
       "      <td>0.863</td>\n",
       "    </tr>\n",
       "    <tr>\n",
       "      <th>5643</th>\n",
       "      <td>FALSE POSITIVE</td>\n",
       "      <td>0.00</td>\n",
       "      <td>0</td>\n",
       "      <td>1</td>\n",
       "      <td>0</td>\n",
       "      <td>0</td>\n",
       "      <td>23.737953</td>\n",
       "      <td>147.006678</td>\n",
       "      <td>1.004</td>\n",
       "      <td>8.50818</td>\n",
       "      <td>95884.0</td>\n",
       "      <td>53.27</td>\n",
       "      <td>620</td>\n",
       "      <td>34.94</td>\n",
       "      <td>1221.2</td>\n",
       "      <td>5559</td>\n",
       "      <td>4.394</td>\n",
       "      <td>1.000</td>\n",
       "    </tr>\n",
       "  </tbody>\n",
       "</table>\n",
       "</div>"
      ],
      "text/plain": [
       "     koi_disposition  koi_score  koi_fpflag_nt  koi_fpflag_ss  koi_fpflag_co  \\\n",
       "3001       CANDIDATE       0.78              0              0              0   \n",
       "5643  FALSE POSITIVE       0.00              0              1              0   \n",
       "\n",
       "      koi_fpflag_ec  koi_period  koi_time0bk  koi_impact  koi_duration  \\\n",
       "3001              0   21.086786   135.563600       0.702       0.97800   \n",
       "5643              0   23.737953   147.006678       1.004       8.50818   \n",
       "\n",
       "      koi_depth  koi_prad  koi_teq  koi_insol  koi_model_snr  koi_steff  \\\n",
       "3001      499.6      2.08      651      42.44           11.0       6084   \n",
       "5643    95884.0     53.27      620      34.94         1221.2       5559   \n",
       "\n",
       "      koi_slogg  koi_srad  \n",
       "3001      4.542     0.863  \n",
       "5643      4.394     1.000  "
      ]
     },
     "execution_count": 29,
     "metadata": {},
     "output_type": "execute_result"
    }
   ],
   "source": [
    "df.sample(2)"
   ]
  },
  {
   "cell_type": "code",
   "execution_count": 30,
   "id": "c5bd0506",
   "metadata": {},
   "outputs": [],
   "source": [
    "feature_cols = [\n",
    "    'koi_score', 'koi_fpflag_nt', 'koi_fpflag_ss', 'koi_fpflag_co', 'koi_fpflag_ec',\n",
    "    'koi_period', 'koi_time0bk', 'koi_impact', 'koi_duration', 'koi_depth',\n",
    "    'koi_prad', 'koi_teq', 'koi_insol', 'koi_model_snr', 'koi_steff',\n",
    "    'koi_slogg', 'koi_srad'\n",
    "]"
   ]
  },
  {
   "cell_type": "code",
   "execution_count": 31,
   "id": "489c8512",
   "metadata": {},
   "outputs": [],
   "source": [
    "X = df[feature_cols]"
   ]
  },
  {
   "cell_type": "code",
   "execution_count": 43,
   "id": "91327846",
   "metadata": {},
   "outputs": [
    {
     "data": {
      "text/plain": [
       "['koi_score',\n",
       " 'koi_fpflag_nt',\n",
       " 'koi_fpflag_ss',\n",
       " 'koi_fpflag_co',\n",
       " 'koi_fpflag_ec',\n",
       " 'koi_period',\n",
       " 'koi_time0bk',\n",
       " 'koi_impact',\n",
       " 'koi_duration',\n",
       " 'koi_depth',\n",
       " 'koi_prad',\n",
       " 'koi_teq',\n",
       " 'koi_insol',\n",
       " 'koi_model_snr',\n",
       " 'koi_steff',\n",
       " 'koi_slogg',\n",
       " 'koi_srad']"
      ]
     },
     "execution_count": 43,
     "metadata": {},
     "output_type": "execute_result"
    }
   ],
   "source": [
    "X.columns.tolist()"
   ]
  },
  {
   "cell_type": "code",
   "execution_count": 32,
   "id": "987e5336",
   "metadata": {},
   "outputs": [],
   "source": [
    "y = df['koi_disposition'].apply(lambda x: 1 if x == 'CONFIRMED' else 0)"
   ]
  },
  {
   "cell_type": "code",
   "execution_count": 33,
   "id": "a63929ae",
   "metadata": {},
   "outputs": [],
   "source": [
    "X_train, X_test, y_train, y_test = train_test_split(\n",
    "    X, y, test_size=0.3, random_state=42, \n",
    ")"
   ]
  },
  {
   "cell_type": "code",
   "execution_count": 34,
   "id": "8f98febc",
   "metadata": {},
   "outputs": [],
   "source": [
    "scaler = StandardScaler()\n",
    "X_train_scaled = scaler.fit_transform(X_train)\n",
    "X_test_scaled = scaler.transform(X_test)"
   ]
  },
  {
   "cell_type": "code",
   "execution_count": 35,
   "id": "6dc4c6da",
   "metadata": {},
   "outputs": [],
   "source": [
    "models = {\n",
    "    \"KNN\": KNeighborsClassifier(),\n",
    "    \"Naive Bayes\": GaussianNB(),\n",
    "    \"Decision Tree\": DecisionTreeClassifier(),\n",
    "    \"SVM\": SVC(probability=True),\n",
    "    \"RF\":RandomForestClassifier(n_estimators=100, random_state=42)\n",
    "}\n"
   ]
  },
  {
   "cell_type": "code",
   "execution_count": 36,
   "id": "c199c81d",
   "metadata": {},
   "outputs": [],
   "source": [
    "results = []"
   ]
  },
  {
   "cell_type": "code",
   "execution_count": 37,
   "id": "51a0785e",
   "metadata": {},
   "outputs": [],
   "source": [
    "for name, model in models.items():\n",
    "    model.fit(X_train_scaled, y_train)\n",
    "    y_pred = model.predict(X_test_scaled)\n",
    "    acc = accuracy_score(y_test, y_pred)\n",
    "    f1 = f1_score(y_test, y_pred)\n",
    "    results.append({\n",
    "        'Model': name,\n",
    "        'Accuracy': round(acc, 4),\n",
    "        'F1 Score': round(f1, 4)\n",
    "    })\n"
   ]
  },
  {
   "cell_type": "code",
   "execution_count": 38,
   "id": "d6ea0f11",
   "metadata": {},
   "outputs": [
    {
     "data": {
      "text/plain": [
       "[{'Model': 'KNN', 'Accuracy': 0.8897, 'F1 Score': 0.8295},\n",
       " {'Model': 'Naive Bayes', 'Accuracy': 0.9122, 'F1 Score': 0.8713},\n",
       " {'Model': 'Decision Tree', 'Accuracy': 0.9352, 'F1 Score': 0.8921},\n",
       " {'Model': 'SVM', 'Accuracy': 0.9005, 'F1 Score': 0.8568},\n",
       " {'Model': 'RF', 'Accuracy': 0.9532, 'F1 Score': 0.9231}]"
      ]
     },
     "execution_count": 38,
     "metadata": {},
     "output_type": "execute_result"
    }
   ],
   "source": [
    "results"
   ]
  },
  {
   "cell_type": "code",
   "execution_count": 39,
   "id": "7afe0670",
   "metadata": {},
   "outputs": [
    {
     "data": {
      "text/plain": [
       "['../models/columns.pkl']"
      ]
     },
     "execution_count": 39,
     "metadata": {},
     "output_type": "execute_result"
    }
   ],
   "source": [
    "import joblib\n",
    "joblib.dump(models['RF'],'../models/Random_forest_exo.pkl')\n",
    "joblib.dump(scaler,'../models/scaler.pkl')\n",
    "joblib.dump(X.columns.tolist(),'../models/columns.pkl')"
   ]
  }
 ],
 "metadata": {
  "kernelspec": {
   "display_name": "myenv (3.13.5)",
   "language": "python",
   "name": "python3"
  },
  "language_info": {
   "codemirror_mode": {
    "name": "ipython",
    "version": 3
   },
   "file_extension": ".py",
   "mimetype": "text/x-python",
   "name": "python",
   "nbconvert_exporter": "python",
   "pygments_lexer": "ipython3",
   "version": "3.13.5"
  }
 },
 "nbformat": 4,
 "nbformat_minor": 5
}
