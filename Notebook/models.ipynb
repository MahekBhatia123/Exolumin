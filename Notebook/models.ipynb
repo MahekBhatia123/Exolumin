{
 "cells": [
  {
   "cell_type": "code",
   "execution_count": 77,
   "id": "56b16da4",
   "metadata": {},
   "outputs": [],
   "source": [
    "import pandas as pd\n",
    "from sklearn.model_selection import train_test_split\n",
    "from sklearn.preprocessing import StandardScaler\n",
    "from sklearn.metrics import accuracy_score, f1_score, classification_report\n",
    "from sklearn.linear_model import LogisticRegression\n",
    "from sklearn.naive_bayes import GaussianNB\n",
    "from sklearn.tree import DecisionTreeClassifier\n",
    "from sklearn.svm import SVC\n",
    "from sklearn.neighbors import KNeighborsClassifier\n",
    "from sklearn.ensemble import RandomForestClassifier"
   ]
  },
  {
   "cell_type": "code",
   "execution_count": 78,
   "id": "5f91558c",
   "metadata": {},
   "outputs": [
    {
     "name": "stderr",
     "output_type": "stream",
     "text": [
      "<>:1: SyntaxWarning: invalid escape sequence '\\d'\n",
      "<>:1: SyntaxWarning: invalid escape sequence '\\d'\n",
      "C:\\Users\\hp\\AppData\\Local\\Temp\\ipykernel_11884\\3872387476.py:1: SyntaxWarning: invalid escape sequence '\\d'\n",
      "  df = pd.read_csv('..\\data\\exoplanents_cleaned_new.csv')\n"
     ]
    }
   ],
   "source": [
    "df = pd.read_csv('..\\data\\exoplanents_cleaned_new.csv')"
   ]
  },
  {
   "cell_type": "code",
   "execution_count": 79,
   "id": "ab16e6ca",
   "metadata": {},
   "outputs": [
    {
     "data": {
      "text/html": [
       "<div>\n",
       "<style scoped>\n",
       "    .dataframe tbody tr th:only-of-type {\n",
       "        vertical-align: middle;\n",
       "    }\n",
       "\n",
       "    .dataframe tbody tr th {\n",
       "        vertical-align: top;\n",
       "    }\n",
       "\n",
       "    .dataframe thead th {\n",
       "        text-align: right;\n",
       "    }\n",
       "</style>\n",
       "<table border=\"1\" class=\"dataframe\">\n",
       "  <thead>\n",
       "    <tr style=\"text-align: right;\">\n",
       "      <th></th>\n",
       "      <th>koi_disposition</th>\n",
       "      <th>koi_score</th>\n",
       "      <th>koi_fpflag_nt</th>\n",
       "      <th>koi_fpflag_ss</th>\n",
       "      <th>koi_fpflag_co</th>\n",
       "      <th>koi_fpflag_ec</th>\n",
       "      <th>koi_period</th>\n",
       "      <th>koi_time0bk</th>\n",
       "      <th>koi_impact</th>\n",
       "      <th>koi_duration</th>\n",
       "      <th>koi_depth</th>\n",
       "      <th>koi_prad</th>\n",
       "      <th>koi_teq</th>\n",
       "      <th>koi_insol</th>\n",
       "      <th>koi_model_snr</th>\n",
       "      <th>koi_steff</th>\n",
       "      <th>koi_slogg</th>\n",
       "      <th>koi_srad</th>\n",
       "    </tr>\n",
       "  </thead>\n",
       "  <tbody>\n",
       "    <tr>\n",
       "      <th>7755</th>\n",
       "      <td>FALSE POSITIVE</td>\n",
       "      <td>0.083</td>\n",
       "      <td>1</td>\n",
       "      <td>0</td>\n",
       "      <td>0</td>\n",
       "      <td>0</td>\n",
       "      <td>264.636540</td>\n",
       "      <td>190.916900</td>\n",
       "      <td>1.247</td>\n",
       "      <td>42.77000</td>\n",
       "      <td>431.8</td>\n",
       "      <td>42.55</td>\n",
       "      <td>376</td>\n",
       "      <td>4.75</td>\n",
       "      <td>28.2</td>\n",
       "      <td>6564</td>\n",
       "      <td>4.198</td>\n",
       "      <td>1.461</td>\n",
       "    </tr>\n",
       "    <tr>\n",
       "      <th>4631</th>\n",
       "      <td>FALSE POSITIVE</td>\n",
       "      <td>0.000</td>\n",
       "      <td>0</td>\n",
       "      <td>1</td>\n",
       "      <td>0</td>\n",
       "      <td>0</td>\n",
       "      <td>0.838597</td>\n",
       "      <td>141.537817</td>\n",
       "      <td>1.274</td>\n",
       "      <td>1.68668</td>\n",
       "      <td>2482.1</td>\n",
       "      <td>44.67</td>\n",
       "      <td>2278</td>\n",
       "      <td>6353.25</td>\n",
       "      <td>303.7</td>\n",
       "      <td>6366</td>\n",
       "      <td>4.352</td>\n",
       "      <td>1.236</td>\n",
       "    </tr>\n",
       "  </tbody>\n",
       "</table>\n",
       "</div>"
      ],
      "text/plain": [
       "     koi_disposition  koi_score  koi_fpflag_nt  koi_fpflag_ss  koi_fpflag_co  \\\n",
       "7755  FALSE POSITIVE      0.083              1              0              0   \n",
       "4631  FALSE POSITIVE      0.000              0              1              0   \n",
       "\n",
       "      koi_fpflag_ec  koi_period  koi_time0bk  koi_impact  koi_duration  \\\n",
       "7755              0  264.636540   190.916900       1.247      42.77000   \n",
       "4631              0    0.838597   141.537817       1.274       1.68668   \n",
       "\n",
       "      koi_depth  koi_prad  koi_teq  koi_insol  koi_model_snr  koi_steff  \\\n",
       "7755      431.8     42.55      376       4.75           28.2       6564   \n",
       "4631     2482.1     44.67     2278    6353.25          303.7       6366   \n",
       "\n",
       "      koi_slogg  koi_srad  \n",
       "7755      4.198     1.461  \n",
       "4631      4.352     1.236  "
      ]
     },
     "execution_count": 79,
     "metadata": {},
     "output_type": "execute_result"
    }
   ],
   "source": [
    "df.sample(2)"
   ]
  },
  {
   "cell_type": "code",
   "execution_count": 80,
   "id": "c5bd0506",
   "metadata": {},
   "outputs": [],
   "source": [
    "feature_cols = [\n",
    "    'koi_score', 'koi_fpflag_nt', 'koi_fpflag_ss', 'koi_fpflag_co', 'koi_fpflag_ec',\n",
    "    'koi_period', 'koi_time0bk', 'koi_impact', 'koi_duration', 'koi_depth',\n",
    "    'koi_prad', 'koi_teq', 'koi_insol', 'koi_model_snr', 'koi_steff',\n",
    "    'koi_slogg', 'koi_srad'\n",
    "]"
   ]
  },
  {
   "cell_type": "code",
   "execution_count": 81,
   "id": "489c8512",
   "metadata": {},
   "outputs": [],
   "source": [
    "X = df[feature_cols]"
   ]
  },
  {
   "cell_type": "code",
   "execution_count": 82,
   "id": "987e5336",
   "metadata": {},
   "outputs": [],
   "source": [
    "y = df['koi_disposition'].apply(lambda x: 1 if x == 'CONFIRMED' else 0)"
   ]
  },
  {
   "cell_type": "code",
   "execution_count": 83,
   "id": "a63929ae",
   "metadata": {},
   "outputs": [],
   "source": [
    "X_train, X_test, y_train, y_test = train_test_split(\n",
    "    X, y, test_size=0.3, random_state=42, \n",
    ")"
   ]
  },
  {
   "cell_type": "code",
   "execution_count": 84,
   "id": "8f98febc",
   "metadata": {},
   "outputs": [],
   "source": [
    "scaler = StandardScaler()\n",
    "X_train_scaled = scaler.fit_transform(X_train)\n",
    "X_test_scaled = scaler.transform(X_test)"
   ]
  },
  {
   "cell_type": "code",
   "execution_count": 85,
   "id": "6dc4c6da",
   "metadata": {},
   "outputs": [],
   "source": [
    "models = {\n",
    "    \"KNN\": KNeighborsClassifier(),\n",
    "    \"Naive Bayes\": GaussianNB(),\n",
    "    \"Decision Tree\": DecisionTreeClassifier(),\n",
    "    \"SVM\": SVC(probability=True),\n",
    "    \"RF\":RandomForestClassifier(n_estimators=100, random_state=42)\n",
    "}\n"
   ]
  },
  {
   "cell_type": "code",
   "execution_count": 86,
   "id": "c199c81d",
   "metadata": {},
   "outputs": [],
   "source": [
    "results = []"
   ]
  },
  {
   "cell_type": "code",
   "execution_count": 87,
   "id": "51a0785e",
   "metadata": {},
   "outputs": [],
   "source": [
    "for name, model in models.items():\n",
    "    model.fit(X_train_scaled, y_train)\n",
    "    y_pred = model.predict(X_test_scaled)\n",
    "    acc = accuracy_score(y_test, y_pred)\n",
    "    f1 = f1_score(y_test, y_pred)\n",
    "    results.append({\n",
    "        'Model': name,\n",
    "        'Accuracy': round(acc, 4),\n",
    "        'F1 Score': round(f1, 4)\n",
    "    })\n"
   ]
  },
  {
   "cell_type": "code",
   "execution_count": 88,
   "id": "d6ea0f11",
   "metadata": {},
   "outputs": [
    {
     "data": {
      "text/plain": [
       "[{'Model': 'KNN', 'Accuracy': 0.8897, 'F1 Score': 0.8295},\n",
       " {'Model': 'Naive Bayes', 'Accuracy': 0.9122, 'F1 Score': 0.8713},\n",
       " {'Model': 'Decision Tree', 'Accuracy': 0.9356, 'F1 Score': 0.8928},\n",
       " {'Model': 'SVM', 'Accuracy': 0.9005, 'F1 Score': 0.8568},\n",
       " {'Model': 'RF', 'Accuracy': 0.9532, 'F1 Score': 0.9231}]"
      ]
     },
     "execution_count": 88,
     "metadata": {},
     "output_type": "execute_result"
    }
   ],
   "source": [
    "results"
   ]
  },
  {
   "cell_type": "code",
   "execution_count": 89,
   "id": "7afe0670",
   "metadata": {},
   "outputs": [
    {
     "data": {
      "text/plain": [
       "['../models/columns.pkl']"
      ]
     },
     "execution_count": 89,
     "metadata": {},
     "output_type": "execute_result"
    }
   ],
   "source": [
    "import joblib\n",
    "joblib.dump(models['RF'],'../models/Random_forest_exo.pkl')\n",
    "joblib.dump(scaler,'../models/scaler.pkl')\n",
    "joblib.dump(X.columns.tolist(),'../models/columns.pkl')"
   ]
  }
 ],
 "metadata": {
  "kernelspec": {
   "display_name": "myenv (3.13.5)",
   "language": "python",
   "name": "python3"
  },
  "language_info": {
   "codemirror_mode": {
    "name": "ipython",
    "version": 3
   },
   "file_extension": ".py",
   "mimetype": "text/x-python",
   "name": "python",
   "nbconvert_exporter": "python",
   "pygments_lexer": "ipython3",
   "version": "3.13.5"
  }
 },
 "nbformat": 4,
 "nbformat_minor": 5
}
